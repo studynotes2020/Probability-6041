{
 "cells": [
  {
   "cell_type": "markdown",
   "metadata": {},
   "source": [
    "$$p_X(X) = \\frac{x^2}{a}$$\n",
    "\n",
    "$X = \\{-3,-2,-1,1,2,3\\}$\n",
    "\n",
    "a) Find a\n",
    "\n",
    "b) Find PMF of $Z = X^2$\n",
    "\n",
    "By definition\n",
    "\n",
    "$p_X(k) = P(X = k)$\n",
    "\n",
    "We know that every pmf must sum to 1\n",
    "\n",
    "$\\sum_x p_X(X) = P(X = -3) + P(X = -2) + ... P(X = 3) = 1$\n",
    "\n",
    "$2(9/a) + 2(4/a) + 2(1/a) = 1$\n",
    "\n",
    "$\\frac{28}{a} = 1 \\implies a = 28$\n",
    "\n",
    "b) $Z = X^2 \\implies Z \\in \\{9, 4, 1\\}$\n",
    "\n",
    "$\\{Z = 1\\} = \\{X = -1 \\} \\cup \\{X = 1 \\}$ is union of two disjoint sets\n",
    "\n",
    "$p_Z(k) = P(Z = k)$\n",
    "\n",
    "$P(Z = 1) = 1/a + 1/a = 2/a = \\frac{2}{28}$\n",
    "\n",
    "$\\{Z = 4\\} = \\{X = -2 \\} \\cup \\{X = 2 \\}$ \n",
    "\n",
    "$P(Z = 4) = 8/a = \\frac{8}{28}$\n",
    "\n",
    "$\\{Z = 9\\} = \\{X = -3 \\} \\cup \\{X = 3 \\}$ \n",
    "\n",
    "$P(Z = 9) = 9/a + 9/a = \\frac{18}{a} = \\frac{18}{28}$\n",
    "\n",
    "We can also draw a diagram where x-axis is random variable, y-axis is the associated probability\n"
   ]
  },
  {
   "cell_type": "code",
   "execution_count": null,
   "metadata": {},
   "outputs": [],
   "source": []
  }
 ],
 "metadata": {
  "kernelspec": {
   "display_name": "Julia 1.5.0",
   "language": "julia",
   "name": "julia-1.5"
  },
  "language_info": {
   "file_extension": ".jl",
   "mimetype": "application/julia",
   "name": "julia",
   "version": "1.5.0"
  }
 },
 "nbformat": 4,
 "nbformat_minor": 4
}
