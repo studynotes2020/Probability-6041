{
 "cells": [
  {
   "cell_type": "markdown",
   "metadata": {},
   "source": [
    "## A linear function of a RV is also linear\n",
    "\n",
    "If X is normal then Y = aX + b is also normal\n",
    "\n",
    "We want to prove\n",
    "\n",
    "$$f_Y(y) = \\frac{1}{|a|} f_X(\\frac{y - b}{a})$$\n",
    "\n",
    "### Case a > 0\n",
    "\n",
    "By definition\n",
    "\n",
    "$$F_Y(y) = P(Y = y)$$\n",
    "\n",
    "$$= P(aX + b \\leq Y) = P(X \\leq \\frac{y-b}{a}) = F_X(\\frac{y-b}{a})$$\n",
    "\n",
    "This is the area under curve, differentiate it to get probability density function\n",
    "\n",
    "$$f_Y(y) = f_X(\\frac{y-b}{a})\\frac{1}{a}$$\n",
    "\n",
    "\n",
    "### Case a < 0\n",
    "\n",
    "When dividing negative inequalities switch direction\n",
    "\n",
    "$$P(X \\geq \\frac{y-b}{a}) = 1 - F_X(\\frac{y-b}{a})$$\n",
    "\n",
    "Diffenretiate\n",
    "\n",
    "$$f_Y(y) = -f_X(\\frac{y-b}{a})\\frac{1}{a}$$\n",
    "\n",
    "Combine the result of both cases\n",
    "\n",
    "$$f_Y(y) = \\frac{1}{|a|} f_X(\\frac{y - b}{a})$$"
   ]
  },
  {
   "cell_type": "code",
   "execution_count": null,
   "metadata": {},
   "outputs": [],
   "source": []
  }
 ],
 "metadata": {
  "kernelspec": {
   "display_name": "Julia 1.5.0",
   "language": "julia",
   "name": "julia-1.5"
  },
  "language_info": {
   "file_extension": ".jl",
   "mimetype": "application/julia",
   "name": "julia",
   "version": "1.5.0"
  }
 },
 "nbformat": 4,
 "nbformat_minor": 4
}
