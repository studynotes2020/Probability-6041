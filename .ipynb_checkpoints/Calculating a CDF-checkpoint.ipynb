{
 "cells": [
  {
   "cell_type": "markdown",
   "metadata": {},
   "source": [
    "Given probability density function\n",
    "\n",
    "$$f_Z(z) = \\begin{cases} \\gamma (1+z^2), \\quad & -2 < z < 1 \\\\\n",
    "0,\\quad & \\text{otherwise}\\end{cases}$$\n",
    "\n",
    "Make use of the fact that total area under curve is 1\n",
    "\n",
    "a) Calculate gamma\n",
    "\n",
    "$$1 = \\int_{-\\infty}^{\\infty} f_Z(z)\\ dz = \\int_{-2}^{1} \\gamma (1+z^2)\\ dz = \\gamma [z + \\frac13 z^3]_{-2}^1$$\n",
    "\n",
    "$$6\\gamma = 1 \\implies \\gamma = \\frac16$$\n",
    "\n",
    "\n",
    "b) Calculate cumulative density function\n",
    "\n",
    "$$F_Z(z) = \\int_{-\\infty}^z f_z(y)\\ dy = P(Z \\leq z)$$\n",
    "\n",
    "In the region -2 <= z <= 1: $$\\int_{-2}^z \\frac16 (1+y^2)\\ dy = \\frac16 [y + \\frac13 y^3]_{-2}^z = \\frac16 [z + \\frac13 z^3 + \\frac{14}{3}]$$ \n",
    "\n",
    "Anything to the left of pdf is zero, and we want to get an expression between the region\n",
    "\n",
    "$$F_Z(z) = \\begin{cases}\n",
    "0,  & z < -2 \\\\\n",
    "\\frac16 [z + \\frac13 z^3 + \\frac{14}{3}], & -2 \\leq z \\leq 1 \\\\\n",
    "1,  & z > 1\n",
    "\\end{cases}$$\n",
    "\n",
    "Because it is cdf, anything to the right is 1"
   ]
  },
  {
   "cell_type": "code",
   "execution_count": null,
   "metadata": {},
   "outputs": [],
   "source": []
  }
 ],
 "metadata": {
  "kernelspec": {
   "display_name": "Julia 1.5.0",
   "language": "julia",
   "name": "julia-1.5"
  },
  "language_info": {
   "file_extension": ".jl",
   "mimetype": "application/julia",
   "name": "julia",
   "version": "1.5.0"
  }
 },
 "nbformat": 4,
 "nbformat_minor": 4
}
